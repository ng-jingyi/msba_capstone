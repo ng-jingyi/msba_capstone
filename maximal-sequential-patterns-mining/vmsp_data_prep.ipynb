{
 "cells": [
  {
   "cell_type": "markdown",
   "metadata": {},
   "source": [
    "# VMSP - Data Prep and workflow\n",
    "Using groups of 100k. Resulting input data file: `spm_seq_grouped_data.txt`"
   ]
  },
  {
   "cell_type": "code",
   "execution_count": 1,
   "metadata": {},
   "outputs": [],
   "source": [
    "import pandas as pd\n",
    "import numpy as np\n",
    "import os"
   ]
  },
  {
   "cell_type": "code",
   "execution_count": 2,
   "metadata": {},
   "outputs": [
    {
     "data": {
      "text/html": [
       "<div>\n",
       "<style scoped>\n",
       "    .dataframe tbody tr th:only-of-type {\n",
       "        vertical-align: middle;\n",
       "    }\n",
       "\n",
       "    .dataframe tbody tr th {\n",
       "        vertical-align: top;\n",
       "    }\n",
       "\n",
       "    .dataframe thead th {\n",
       "        text-align: right;\n",
       "    }\n",
       "</style>\n",
       "<table border=\"1\" class=\"dataframe\">\n",
       "  <thead>\n",
       "    <tr style=\"text-align: right;\">\n",
       "      <th></th>\n",
       "      <th>session</th>\n",
       "      <th>aid</th>\n",
       "      <th>ts</th>\n",
       "      <th>type</th>\n",
       "      <th>dt</th>\n",
       "      <th>aid_group</th>\n",
       "      <th>event</th>\n",
       "    </tr>\n",
       "  </thead>\n",
       "  <tbody>\n",
       "    <tr>\n",
       "      <th>0</th>\n",
       "      <td>0</td>\n",
       "      <td>1517085</td>\n",
       "      <td>1659304800025</td>\n",
       "      <td>clicks</td>\n",
       "      <td>2022-07-31 22:00:00.025</td>\n",
       "      <td>15</td>\n",
       "      <td>15_clicks</td>\n",
       "    </tr>\n",
       "    <tr>\n",
       "      <th>1</th>\n",
       "      <td>0</td>\n",
       "      <td>1563459</td>\n",
       "      <td>1659304904511</td>\n",
       "      <td>clicks</td>\n",
       "      <td>2022-07-31 22:01:44.511</td>\n",
       "      <td>15</td>\n",
       "      <td>15_clicks</td>\n",
       "    </tr>\n",
       "    <tr>\n",
       "      <th>2</th>\n",
       "      <td>0</td>\n",
       "      <td>1309446</td>\n",
       "      <td>1659367439426</td>\n",
       "      <td>clicks</td>\n",
       "      <td>2022-08-01 15:23:59.426</td>\n",
       "      <td>13</td>\n",
       "      <td>13_clicks</td>\n",
       "    </tr>\n",
       "    <tr>\n",
       "      <th>3</th>\n",
       "      <td>0</td>\n",
       "      <td>16246</td>\n",
       "      <td>1659367719997</td>\n",
       "      <td>clicks</td>\n",
       "      <td>2022-08-01 15:28:39.997</td>\n",
       "      <td>0</td>\n",
       "      <td>0_clicks</td>\n",
       "    </tr>\n",
       "    <tr>\n",
       "      <th>4</th>\n",
       "      <td>0</td>\n",
       "      <td>1781822</td>\n",
       "      <td>1659367871344</td>\n",
       "      <td>clicks</td>\n",
       "      <td>2022-08-01 15:31:11.344</td>\n",
       "      <td>17</td>\n",
       "      <td>17_clicks</td>\n",
       "    </tr>\n",
       "  </tbody>\n",
       "</table>\n",
       "</div>"
      ],
      "text/plain": [
       "   session      aid             ts    type                       dt  \\\n",
       "0        0  1517085  1659304800025  clicks  2022-07-31 22:00:00.025   \n",
       "1        0  1563459  1659304904511  clicks  2022-07-31 22:01:44.511   \n",
       "2        0  1309446  1659367439426  clicks  2022-08-01 15:23:59.426   \n",
       "3        0    16246  1659367719997  clicks  2022-08-01 15:28:39.997   \n",
       "4        0  1781822  1659367871344  clicks  2022-08-01 15:31:11.344   \n",
       "\n",
       "   aid_group      event  \n",
       "0         15  15_clicks  \n",
       "1         15  15_clicks  \n",
       "2         13  13_clicks  \n",
       "3          0   0_clicks  \n",
       "4         17  17_clicks  "
      ]
     },
     "execution_count": 2,
     "metadata": {},
     "output_type": "execute_result"
    }
   ],
   "source": [
    "df = pd.read_csv('cleaned_otto_event_data.csv')\n",
    "df.head()"
   ]
  },
  {
   "cell_type": "code",
   "execution_count": 3,
   "metadata": {},
   "outputs": [
    {
     "data": {
      "text/html": [
       "<div>\n",
       "<style scoped>\n",
       "    .dataframe tbody tr th:only-of-type {\n",
       "        vertical-align: middle;\n",
       "    }\n",
       "\n",
       "    .dataframe tbody tr th {\n",
       "        vertical-align: top;\n",
       "    }\n",
       "\n",
       "    .dataframe thead th {\n",
       "        text-align: right;\n",
       "    }\n",
       "</style>\n",
       "<table border=\"1\" class=\"dataframe\">\n",
       "  <thead>\n",
       "    <tr style=\"text-align: right;\">\n",
       "      <th></th>\n",
       "      <th>session</th>\n",
       "      <th>aid</th>\n",
       "      <th>ts</th>\n",
       "      <th>type</th>\n",
       "      <th>dt</th>\n",
       "      <th>aid_group</th>\n",
       "      <th>event</th>\n",
       "      <th>event_num</th>\n",
       "    </tr>\n",
       "  </thead>\n",
       "  <tbody>\n",
       "    <tr>\n",
       "      <th>0</th>\n",
       "      <td>0</td>\n",
       "      <td>1517085</td>\n",
       "      <td>1659304800025</td>\n",
       "      <td>clicks</td>\n",
       "      <td>2022-07-31 22:00:00.025</td>\n",
       "      <td>15</td>\n",
       "      <td>15_clicks</td>\n",
       "      <td>19</td>\n",
       "    </tr>\n",
       "    <tr>\n",
       "      <th>1</th>\n",
       "      <td>0</td>\n",
       "      <td>1563459</td>\n",
       "      <td>1659304904511</td>\n",
       "      <td>clicks</td>\n",
       "      <td>2022-07-31 22:01:44.511</td>\n",
       "      <td>15</td>\n",
       "      <td>15_clicks</td>\n",
       "      <td>19</td>\n",
       "    </tr>\n",
       "    <tr>\n",
       "      <th>2</th>\n",
       "      <td>0</td>\n",
       "      <td>1309446</td>\n",
       "      <td>1659367439426</td>\n",
       "      <td>clicks</td>\n",
       "      <td>2022-08-01 15:23:59.426</td>\n",
       "      <td>13</td>\n",
       "      <td>13_clicks</td>\n",
       "      <td>13</td>\n",
       "    </tr>\n",
       "    <tr>\n",
       "      <th>3</th>\n",
       "      <td>0</td>\n",
       "      <td>16246</td>\n",
       "      <td>1659367719997</td>\n",
       "      <td>clicks</td>\n",
       "      <td>2022-08-01 15:28:39.997</td>\n",
       "      <td>0</td>\n",
       "      <td>0_clicks</td>\n",
       "      <td>1</td>\n",
       "    </tr>\n",
       "    <tr>\n",
       "      <th>4</th>\n",
       "      <td>0</td>\n",
       "      <td>1781822</td>\n",
       "      <td>1659367871344</td>\n",
       "      <td>clicks</td>\n",
       "      <td>2022-08-01 15:31:11.344</td>\n",
       "      <td>17</td>\n",
       "      <td>17_clicks</td>\n",
       "      <td>25</td>\n",
       "    </tr>\n",
       "  </tbody>\n",
       "</table>\n",
       "</div>"
      ],
      "text/plain": [
       "   session      aid             ts    type                       dt  \\\n",
       "0        0  1517085  1659304800025  clicks  2022-07-31 22:00:00.025   \n",
       "1        0  1563459  1659304904511  clicks  2022-07-31 22:01:44.511   \n",
       "2        0  1309446  1659367439426  clicks  2022-08-01 15:23:59.426   \n",
       "3        0    16246  1659367719997  clicks  2022-08-01 15:28:39.997   \n",
       "4        0  1781822  1659367871344  clicks  2022-08-01 15:31:11.344   \n",
       "\n",
       "   aid_group      event event_num  \n",
       "0         15  15_clicks        19  \n",
       "1         15  15_clicks        19  \n",
       "2         13  13_clicks        13  \n",
       "3          0   0_clicks         1  \n",
       "4         17  17_clicks        25  "
      ]
     },
     "execution_count": 3,
     "metadata": {},
     "output_type": "execute_result"
    }
   ],
   "source": [
    "from sklearn.preprocessing import LabelEncoder\n",
    "\n",
    "label_encoder = LabelEncoder()\n",
    "df['event_num'] = label_encoder.fit_transform(df['event'])\n",
    "df['event_num'] = df['event_num'].astype('str')\n",
    "df.head()"
   ]
  },
  {
   "cell_type": "code",
   "execution_count": 4,
   "metadata": {},
   "outputs": [],
   "source": [
    "# save dictionary to map event_num to event\n",
    "event_dict = df[['event_num', 'event']].drop_duplicates()\n",
    "event_dict.to_csv('/Users/jinglyng/Documents/MSBA/Capstone (UOB)/otto_rs/spm_seq_grouped_data_event_dict.csv', index=False)"
   ]
  },
  {
   "cell_type": "code",
   "execution_count": 5,
   "metadata": {},
   "outputs": [
    {
     "data": {
      "text/html": [
       "<div>\n",
       "<style scoped>\n",
       "    .dataframe tbody tr th:only-of-type {\n",
       "        vertical-align: middle;\n",
       "    }\n",
       "\n",
       "    .dataframe tbody tr th {\n",
       "        vertical-align: top;\n",
       "    }\n",
       "\n",
       "    .dataframe thead th {\n",
       "        text-align: right;\n",
       "    }\n",
       "</style>\n",
       "<table border=\"1\" class=\"dataframe\">\n",
       "  <thead>\n",
       "    <tr style=\"text-align: right;\">\n",
       "      <th></th>\n",
       "      <th>session</th>\n",
       "      <th>sequence</th>\n",
       "    </tr>\n",
       "  </thead>\n",
       "  <tbody>\n",
       "    <tr>\n",
       "      <th>0</th>\n",
       "      <td>0</td>\n",
       "      <td>19 -1 19 -1 13 -1 1 -1 25 -1 7 -1 21 -1 39 -1 ...</td>\n",
       "    </tr>\n",
       "    <tr>\n",
       "      <th>1</th>\n",
       "      <td>1</td>\n",
       "      <td>39 -1 16 -1 15 -1 55 -1 54 -1 16 -1 15 -1 40 -...</td>\n",
       "    </tr>\n",
       "    <tr>\n",
       "      <th>2</th>\n",
       "      <td>2</td>\n",
       "      <td>49 -1 31 -1 43 -1 31 -1 49 -1 37 -1 49 -1 1 -1...</td>\n",
       "    </tr>\n",
       "    <tr>\n",
       "      <th>3</th>\n",
       "      <td>3</td>\n",
       "      <td>15 -1 16 -1 13 -1 13 -1 12 -1 16 -1 13 -1 28 -...</td>\n",
       "    </tr>\n",
       "    <tr>\n",
       "      <th>4</th>\n",
       "      <td>4</td>\n",
       "      <td>46 -1 34 -1 35 -1 37 -1 34 -1 28 -1 16 -1 28 -...</td>\n",
       "    </tr>\n",
       "  </tbody>\n",
       "</table>\n",
       "</div>"
      ],
      "text/plain": [
       "   session                                           sequence\n",
       "0        0  19 -1 19 -1 13 -1 1 -1 25 -1 7 -1 21 -1 39 -1 ...\n",
       "1        1  39 -1 16 -1 15 -1 55 -1 54 -1 16 -1 15 -1 40 -...\n",
       "2        2  49 -1 31 -1 43 -1 31 -1 49 -1 37 -1 49 -1 1 -1...\n",
       "3        3  15 -1 16 -1 13 -1 13 -1 12 -1 16 -1 13 -1 28 -...\n",
       "4        4  46 -1 34 -1 35 -1 37 -1 34 -1 28 -1 16 -1 28 -..."
      ]
     },
     "execution_count": 5,
     "metadata": {},
     "output_type": "execute_result"
    }
   ],
   "source": [
    "df.sort_values(['session', 'dt'])\n",
    "seq_df = df.groupby('session', as_index=False).agg(sequence=('event_num', ' -1 '.join))\n",
    "seq_df['sequence'] = seq_df['sequence'] + ' -2'\n",
    "seq_df.head()"
   ]
  },
  {
   "cell_type": "code",
   "execution_count": 6,
   "metadata": {},
   "outputs": [],
   "source": [
    "# save as .txt file\n",
    "\n",
    "seq_df['sequence'].to_csv('spm_seq_grouped_data.txt', sep='\\n', index=False, header=False)"
   ]
  },
  {
   "cell_type": "markdown",
   "metadata": {},
   "source": [
    "## 10% sample"
   ]
  },
  {
   "cell_type": "code",
   "execution_count": 7,
   "metadata": {},
   "outputs": [],
   "source": [
    "sample_seq_df = seq_df.sample(1000, random_state=123)\n",
    "sample_seq_df.reset_index(drop=True, inplace=True)\n",
    "sample_seq_df['sequence'].to_csv('spm_seq_grouped_data_sample.txt', sep='\\n', index=False, header=False)"
   ]
  },
  {
   "cell_type": "code",
   "execution_count": 8,
   "metadata": {},
   "outputs": [
    {
     "name": "stdout",
     "output_type": "stream",
     "text": [
      ">/Users/jinglyng/Documents/MSBA/Capstone (UOB)/maximal-sequential-patterns-mining/spmf.jar\n",
      "=============  VMSP v0.97 - STATISTICS =============\n",
      " Total time ~ 217 ms\n",
      " Frequent sequences count : 19\n",
      " Max memory (mb) : 7.9566040039062519\n",
      "minsup 410\n",
      "Intersection count 23 \n",
      "===================================================\n",
      "\n",
      "[['55', '#SUP: 563'], ['46', '#SUP: 576'], ['34', '#SUP: 547'], ['28', '#SUP: 417'], ['19', '#SUP: 578'], ['10', '#SUP: 574'], ['4', '#SUP: 582'], ['1', '#SUP: 569'], ['52', '52', '#SUP: 432'], ['49', '49', '#SUP: 413'], ['43', '43', '#SUP: 414'], ['40', '40', '#SUP: 425'], ['37', '37', '#SUP: 433'], ['31', '31', '#SUP: 425'], ['25', '25', '#SUP: 416'], ['22', '22', '#SUP: 423'], ['16', '16', '#SUP: 415'], ['13', '13', '#SUP: 415'], ['7', '7', '#SUP: 420']]\n"
     ]
    }
   ],
   "source": [
    "!python3 vmsp.py spm_seq_grouped_data_sample.txt spm_seq_grouped_sample_output.txt 0.41"
   ]
  },
  {
   "cell_type": "code",
   "execution_count": 1,
   "metadata": {},
   "outputs": [
    {
     "name": "stdout",
     "output_type": "stream",
     "text": [
      ">/Users/jinglyng/Documents/MSBA/Capstone (UOB)/maximal-sequential-patterns-mining/spmf.jar\n"
     ]
    }
   ],
   "source": [
    "!python3 vmsp.py spm_seq_grouped_data_sample.txt spm_seq_grouped_sample_output.txt 0.35\n"
   ]
  }
 ],
 "metadata": {
  "kernelspec": {
   "display_name": "seq_patterns",
   "language": "python",
   "name": "python3"
  },
  "language_info": {
   "codemirror_mode": {
    "name": "ipython",
    "version": 3
   },
   "file_extension": ".py",
   "mimetype": "text/x-python",
   "name": "python",
   "nbconvert_exporter": "python",
   "pygments_lexer": "ipython3",
   "version": "3.11.3"
  }
 },
 "nbformat": 4,
 "nbformat_minor": 2
}
