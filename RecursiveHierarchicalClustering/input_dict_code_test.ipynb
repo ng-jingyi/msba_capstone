{
 "cells": [
  {
   "cell_type": "markdown",
   "metadata": {},
   "source": [
    "## Creating a dictionary for the inputs"
   ]
  },
  {
   "cell_type": "code",
   "execution_count": 1,
   "metadata": {},
   "outputs": [],
   "source": [
    "input_dict = {'A' : 'A1, A2, A3', 'B': 'B1, B2', 'C': 'C1, C2, C3', 'D': 'D1, D2, D3', 'E': 'E1, E2, E3', \n",
    "'F': 'F1, F2', 'G': 'G1, G2, G3', 'H': 'H1, H2', 'I': 'I1, I2', 'J': 'J1, J2', 'K': 'K1, K2, K3', 'L' : 'L1, L2',\n",
    "'M': 'M1, M2', 'N': 'N1, N2', 'O': 'O1, O2'}"
   ]
  },
  {
   "cell_type": "code",
   "execution_count": 3,
   "metadata": {},
   "outputs": [],
   "source": [
    "import csv\n",
    "\n",
    "with open('input_dict.csv', 'w') as csv_file:\n",
    "    writer = csv.writer(csv_file)\n",
    "    for key, value in input_dict.items():\n",
    "        writer.writerow([key, value])"
   ]
  },
  {
   "cell_type": "code",
   "execution_count": 4,
   "metadata": {},
   "outputs": [],
   "source": [
    "input_dict1 = {}\n",
    "with open('input_dict.csv', 'r') as csv_file:\n",
    "    reader = csv.reader(csv_file)\n",
    "    input_dict1 = {rows[0]: rows[1] for rows in reader}"
   ]
  },
  {
   "cell_type": "code",
   "execution_count": 5,
   "metadata": {},
   "outputs": [
    {
     "data": {
      "text/plain": [
       "{'A': 'A1, A2, A3',\n",
       " 'B': 'B1, B2',\n",
       " 'C': 'C1, C2, C3',\n",
       " 'D': 'D1, D2, D3',\n",
       " 'E': 'E1, E2, E3',\n",
       " 'F': 'F1, F2',\n",
       " 'G': 'G1, G2, G3',\n",
       " 'H': 'H1, H2',\n",
       " 'I': 'I1, I2',\n",
       " 'J': 'J1, J2',\n",
       " 'K': 'K1, K2, K3',\n",
       " 'L': 'L1, L2',\n",
       " 'M': 'M1, M2',\n",
       " 'N': 'N1, N2',\n",
       " 'O': 'O1, O2'}"
      ]
     },
     "execution_count": 5,
     "metadata": {},
     "output_type": "execute_result"
    }
   ],
   "source": [
    "input_dict1"
   ]
  },
  {
   "cell_type": "code",
   "execution_count": null,
   "metadata": {},
   "outputs": [],
   "source": []
  }
 ],
 "metadata": {
  "kernelspec": {
   "display_name": "rhc_venv",
   "language": "python",
   "name": "python3"
  },
  "language_info": {
   "codemirror_mode": {
    "name": "ipython",
    "version": 3
   },
   "file_extension": ".py",
   "mimetype": "text/x-python",
   "name": "python",
   "nbconvert_exporter": "python",
   "pygments_lexer": "ipython3",
   "version": "3.11.4"
  }
 },
 "nbformat": 4,
 "nbformat_minor": 2
}
