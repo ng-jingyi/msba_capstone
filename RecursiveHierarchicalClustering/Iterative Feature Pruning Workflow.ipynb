{
 "cells": [
  {
   "cell_type": "markdown",
   "metadata": {},
   "source": [
    "# Iterative Feature Pruning Workflow"
   ]
  },
  {
   "cell_type": "markdown",
   "metadata": {},
   "source": [
    "## Recursive Hierarchical Clustering\n",
    "### Dependencies\n",
    "python `numpy` and `scipy`\n",
    "\n",
    "**In the folder**\n",
    "- calculateDistance.py\n",
    "- calcaulateDistanceInt.py\n",
    "- mutual_info.py\n",
    "\n",
    "**Main file: recursiveHierarchicalClusteringFast.py**\n"
   ]
  },
  {
   "cell_type": "markdown",
   "metadata": {},
   "source": [
    "### 1. Run the .py script\n",
    "Assuming that the data has already been processed to the compatible format for the input file. \n",
    "\n",
    "**Arguments:**\n",
    "1. inputPath: specify the path to a files that contains information for the users to be clustered. Each line is represent a user.\n",
    "\n",
    ">user_id \\t A(1)G(10) \\\n",
    "> Where the A and G are actions and 1 and 10 are the frequencies of each action. The user_id grows from 1 to the total number of users.\n",
    "\n",
    "2. outputPath: The directory to place all temporary files as well as the final result.\n",
    "\n",
    "3. sizeThreshold (optional): Defines the minimum size of the cluster, that we are going to further divide. 0.05 means clusters containing less than 5% of the total instances is not going to be further splitted."
   ]
  },
  {
   "cell_type": "code",
   "execution_count": 1,
   "metadata": {},
   "outputs": [
    {
     "name": "stdout",
     "output_type": "stream",
     "text": [
      "[LOG]: total users 10000\n",
      "[LOG]: starting in localhost for tmp_1717573444root\n",
      "[LOG]: 2024-06-05 15:44:04.435067 computing matrix for output/tmp_1717573444root\n",
      "[LOG]: 2024-06-05 15:44:04.719748 preprocessing takes 0.2842s\n",
      "[LOG]: start new thread 1\n",
      "[LOG]: start new thread 2\n",
      "[LOG]: start new thread 3\n",
      "[LOG]: thread 1 finished after 1\n",
      "[LOG]: start new thread 4\n",
      "[LOG]: thread 2 finished after 1\n",
      "[LOG]: start new thread 5\n",
      "[LOG]: thread 3 finished after 1\n",
      "[LOG]: thread 4 finished after 0\n",
      "[LOG]: thread 5 finished after 0\n",
      "[LOG]: 2024-06-05 15:44:08.328126 merge started for output/tmp_1717573444root\n",
      "[LOG]: 2024-06-05 15:44:08.361417 merge finished for output/tmp_1717573444root\n",
      "[LOG]: 2024-06-05 15:44:08.366286 matrix computation finished for output/tmp_1717573444root\n",
      "[LOG]: first matrixTime 3.980624\n",
      "[LOG]: finished calculating modularityBasics\n",
      "[LOG]: sweetSpot is 31, modularity 0.021828\n",
      "/Users/jinglyng/Documents/MSBA/Capstone (UOB)/RecursiveHierarchicalClustering/recursiveHierarchicalClustering.py:246: FutureWarning: `rcond` parameter will change to the default of machine precision times ``max(M, N)`` where M and N are the input matrix dimensions.\n",
      "To use the future default and silence this warning we advise to pass `rcond=None`, to keep using the old, explicitly pass `rcond=-1`.\n",
      "  result = np.linalg.lstsq(A, y)\n",
      "[LOG]: finished calculating modularityBasics\n",
      "[WARNING]: window too large when trying to determine sweetspot\n",
      "[LOG]: sweetSpot is 2, modularity 0.014026\n",
      "[LOG]: starting in localhost for tmp_60\n",
      "[LOG]: 2024-06-05 15:45:08.201794 computing matrix for output/t60_tmp_60\n",
      "[LOG]: 2024-06-05 15:45:08.408415 preprocessing takes 0.2064s\n",
      "[LOG]: start new thread 1\n",
      "[LOG]: thread 1 finished after 0\n",
      "[LOG]: start new thread 2\n",
      "[LOG]: thread 2 finished after 0\n",
      "[LOG]: start new thread 3\n",
      "[LOG]: thread 3 finished after 0\n",
      "[LOG]: start new thread 4\n",
      "[LOG]: thread 4 finished after 0\n",
      "[LOG]: 2024-06-05 15:45:10.484288 merge started for output/t60_tmp_60\n",
      "[LOG]: 2024-06-05 15:45:10.487981 merge finished for output/t60_tmp_60\n",
      "[LOG]: 2024-06-05 15:45:10.488561 matrix computation finished for output/t60_tmp_60\n",
      "[LOG]: finished calculating modularityBasics\n",
      "[LOG]: sweetSpot is 7, modularity 0.147174\n",
      "[LOG]: finished calculating modularityBasics\n",
      "[LOG]: sweetSpot is 2, modularity 0.029890\n",
      "[LOG]: finished calculating modularityBasics\n",
      "[WARNING]: window too large when trying to determine sweetspot\n",
      "[LOG]: sweetSpot is 2, modularity 0.024951\n",
      "[LOG]: finished calculating modularityBasics\n",
      "[WARNING]: window too large when trying to determine sweetspot\n",
      "[LOG]: sweetSpot is 2, modularity 0.073056\n",
      "[STAT]: total clustering time 67.991095\n",
      "[STAT]: total time 68.136857\n",
      "[STAT]: maxtrix com: 6.625566, dismeter: 27.745848, modularity: 0.022281, split: 29.996659, exclusion: 3.350817\n"
     ]
    }
   ],
   "source": [
    "!python3 recursiveHierarchicalClusteringFast.py seq_input.txt output/ 0.05"
   ]
  },
  {
   "cell_type": "markdown",
   "metadata": {},
   "source": [
    "#### Output: \n",
    "- `output/matrix.dat`: A distance matrix for the root level is stored to avoid repeated calculation. If the file is available, the scirpt will read in the matrix instead of calculating it again. The file format is a N*N distance matrix scaled to integer in the range of (0-100).\n",
    "\n",
    "- `output/result.json`: Stores the clustering result, in the form of ['t', sub-cluster list, cluster info] or ['l', user list, cluster info].\n",
    "\n",
    "- `Node type`: node type can be either t or l. l means leaf which means the cluster is not further split. t means tree meaning there are further splitting for the given cluster.\n",
    "- `Sub-cluster list`: a list of clusters that is the resulting clusters derived from splitting the current cluster.\n",
    "- `User list`: a list of user ids representing the users in the given cluster.\n",
    "- `Cluster info`: a dictionary containing meta data for the cluster.\n",
    "- `gini`: gini-coefficient for chi-square score value distribution, measures the skewness of feature importance distribution.\n",
    "- `sweetspot`: the modularity for the best k we picked when further splitting this cluster.\n",
    "- `exclusions`: a list of top features (ranked) that helps to distinguish the cluster from others.\n",
    "- `exclusionsScore`: the chi-square scores correspond to the top features listed in exclusions.\n"
   ]
  },
  {
   "cell_type": "markdown",
   "metadata": {},
   "source": [
    "### 2. Visualisation Interface"
   ]
  },
  {
   "cell_type": "code",
   "execution_count": 2,
   "metadata": {},
   "outputs": [],
   "source": [
    "!python3 visulization.py output/result.json  seq_input.txt vis/vis.json"
   ]
  },
  {
   "cell_type": "markdown",
   "metadata": {},
   "source": [
    "#### Open the visualisation interface on localhost"
   ]
  },
  {
   "cell_type": "code",
   "execution_count": 3,
   "metadata": {},
   "outputs": [
    {
     "name": "stdout",
     "output_type": "stream",
     "text": [
      "Serving HTTP on :: port 8000 (http://[::]:8000/) ...\n"
     ]
    },
    {
     "data": {
      "text/plain": [
       "True"
      ]
     },
     "execution_count": 3,
     "metadata": {},
     "output_type": "execute_result"
    },
    {
     "name": "stderr",
     "output_type": "stream",
     "text": [
      "::1 - - [05/Jun/2024 15:45:37] \"GET /vis.json HTTP/1.1\" 200 -\n",
      "::1 - - [05/Jun/2024 15:45:37] \"GET /vis.json HTTP/1.1\" 304 -\n",
      "::1 - - [05/Jun/2024 15:45:37] \"GET /vis.json HTTP/1.1\" 304 -\n",
      "::1 - - [05/Jun/2024 15:45:37] \"GET /vis.json HTTP/1.1\" 304 -\n"
     ]
    }
   ],
   "source": [
    "import os\n",
    "import subprocess\n",
    "import webbrowser\n",
    "\n",
    "os.chdir('vis')\n",
    "subprocess.Popen(['python3', '-m', 'http.server', '8000'])\n",
    "webbrowser.open_new_tab('http://localhost:8000/multi_color.html?json=vis.json')"
   ]
  }
 ],
 "metadata": {
  "kernelspec": {
   "display_name": ".venv",
   "language": "python",
   "name": "python3"
  },
  "language_info": {
   "codemirror_mode": {
    "name": "ipython",
    "version": 3
   },
   "file_extension": ".py",
   "mimetype": "text/x-python",
   "name": "python",
   "nbconvert_exporter": "python",
   "pygments_lexer": "ipython3",
   "version": "3.11.4"
  }
 },
 "nbformat": 4,
 "nbformat_minor": 2
}
