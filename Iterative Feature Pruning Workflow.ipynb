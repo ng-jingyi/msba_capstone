{
 "cells": [
  {
   "cell_type": "markdown",
   "metadata": {},
   "source": [
    "# Iterative Feature Pruning Workflow"
   ]
  },
  {
   "cell_type": "markdown",
   "metadata": {},
   "source": [
    "## Recursive Hierarchical Clustering\n",
    "### Dependencies\n",
    "python `numpy` and `scipy`\n",
    "\n",
    "**In the folder**\n",
    "- calculateDistance.py\n",
    "- calcaulateDistanceInt.py\n",
    "- mutual_info.py\n",
    "\n",
    "**Main file: recursiveHierarchicalClusteringFast.py**\n"
   ]
  },
  {
   "cell_type": "markdown",
   "metadata": {},
   "source": [
    "### 1. Run the .py script\n",
    "Assuming that the data has already been processed to the compatible format for the input file. \n",
    "\n",
    "**Arguments:**\n",
    "1. inputPath: specify the path to a files that contains information for the users to be clustered. Each line is represent a user.\n",
    "\n",
    ">user_id \\t A(1)G(10) \\\n",
    "> Where the A and G are actions and 1 and 10 are the frequencies of each action. The user_id grows from 1 to the total number of users.\n",
    "\n",
    "2. outputPath: The directory to place all temporary files as well as the final result.\n",
    "\n",
    "3. sizeThreshold (optional): Defines the minimum size of the cluster, that we are going to further divide. 0.05 means clusters containing less than 5% of the total instances is not going to be further splitted."
   ]
  },
  {
   "cell_type": "code",
   "execution_count": 5,
   "metadata": {},
   "outputs": [],
   "source": [
    "import os \n",
    "os.chdir('/Users/jinglyng/Documents/MSBA/Capstone (UOB)/RecursiveHierarchicalClustering')"
   ]
  },
  {
   "cell_type": "code",
   "execution_count": 6,
   "metadata": {},
   "outputs": [
    {
     "name": "stdout",
     "output_type": "stream",
     "text": [
      "[LOG]: total users 4395\n",
      "[LOG]: starting in localhost for tmp_1719212240root\n",
      "[LOG]: 2024-06-24 14:57:20.532810 computing matrix for output/tmp_1719212240root\n",
      "[LOG]: 2024-06-24 14:57:20.800659 preprocessing takes 0.2676s\n",
      "[LOG]: start new thread 1\n",
      "[LOG]: thread 1 finished after 0\n",
      "[LOG]: start new thread 2\n",
      "[LOG]: thread 2 finished after 0\n",
      "[LOG]: start new thread 3\n",
      "[LOG]: thread 3 finished after 0\n",
      "[LOG]: start new thread 4\n",
      "[LOG]: thread 4 finished after 0\n",
      "[LOG]: start new thread 5\n",
      "[LOG]: thread 5 finished after 0\n",
      "[LOG]: 2024-06-24 14:57:23.364126 merge started for output/tmp_1719212240root\n",
      "[LOG]: 2024-06-24 14:57:23.370526 merge finished for output/tmp_1719212240root\n",
      "[LOG]: 2024-06-24 14:57:23.371145 matrix computation finished for output/tmp_1719212240root\n",
      "[LOG]: first matrixTime 2.920967\n",
      "[LOG]: finished calculating modularityBasics\n",
      "[LOG]: sweetSpot is 11, modularity 0.034427\n",
      "/Users/jinglyng/Documents/MSBA/Capstone (UOB)/RecursiveHierarchicalClustering/recursiveHierarchicalClustering.py:246: FutureWarning: `rcond` parameter will change to the default of machine precision times ``max(M, N)`` where M and N are the input matrix dimensions.\n",
      "To use the future default and silence this warning we advise to pass `rcond=None`, to keep using the old, explicitly pass `rcond=-1`.\n",
      "  result = np.linalg.lstsq(A, y)\n",
      "[LOG]: finished calculating modularityBasics\n",
      "[WARNING]: window too large when trying to determine sweetspot\n",
      "[LOG]: sweetSpot is 2, modularity 0.032257\n",
      "[LOG]: finished calculating modularityBasics\n",
      "[WARNING]: window too large when trying to determine sweetspot\n",
      "[LOG]: sweetSpot is 2, modularity 0.055671\n",
      "[LOG]: starting in localhost for tmp_3\n",
      "[LOG]: 2024-06-24 14:57:44.148735 computing matrix for output/t3_tmp_3\n",
      "[LOG]: 2024-06-24 14:57:44.184038 preprocessing takes 0.0352s\n",
      "[LOG]: start new thread 1\n",
      "[LOG]: thread 1 finished after 0\n",
      "[LOG]: start new thread 2\n",
      "[LOG]: thread 2 finished after 0\n",
      "[LOG]: 2024-06-24 14:57:45.266662 merge started for output/t3_tmp_3\n",
      "[LOG]: 2024-06-24 14:57:45.267695 merge finished for output/t3_tmp_3\n",
      "[LOG]: 2024-06-24 14:57:45.268070 matrix computation finished for output/t3_tmp_3\n",
      "[LOG]: finished calculating modularityBasics\n",
      "[LOG]: sweetSpot is 10, modularity 0.152966\n",
      "[LOG]: starting in localhost for tmp_20\n",
      "[LOG]: 2024-06-24 14:57:47.381038 computing matrix for output/t20_tmp_20\n",
      "[LOG]: 2024-06-24 14:57:47.575948 preprocessing takes 0.1947s\n",
      "[LOG]: start new thread 1\n",
      "[LOG]: thread 1 finished after 0\n",
      "[LOG]: start new thread 2\n",
      "[LOG]: thread 2 finished after 0\n",
      "[LOG]: 2024-06-24 14:57:48.648072 merge started for output/t20_tmp_20\n",
      "[LOG]: 2024-06-24 14:57:48.649750 merge finished for output/t20_tmp_20\n",
      "[LOG]: 2024-06-24 14:57:48.650193 matrix computation finished for output/t20_tmp_20\n",
      "[LOG]: finished calculating modularityBasics\n",
      "[LOG]: sweetSpot is 14, modularity 0.022558\n",
      "[LOG]: finished calculating modularityBasics\n",
      "[WARNING]: window too large when trying to determine sweetspot\n",
      "[LOG]: sweetSpot is 2, modularity 0.021041\n",
      "[STAT]: total clustering time 43.776810\n",
      "[STAT]: total time 43.883361\n",
      "[STAT]: maxtrix com: 5.489716, dismeter: 2.457655, modularity: 0.009663, split: 2.771275, exclusion: 32.869081\n"
     ]
    }
   ],
   "source": [
    "!python3 recursiveHierarchicalClusteringFast.py seq_freq_newgrp_input.txt output/ 0.05"
   ]
  },
  {
   "cell_type": "markdown",
   "metadata": {},
   "source": [
    "#### Output: \n",
    "- `output/matrix.dat`: A distance matrix for the root level is stored to avoid repeated calculation. If the file is available, the scirpt will read in the matrix instead of calculating it again. The file format is a N*N distance matrix scaled to integer in the range of (0-100).\n",
    "\n",
    "- `output/result.json`: Stores the clustering result, in the form of ['t', sub-cluster list, cluster info] or ['l', user list, cluster info].\n",
    "\n",
    "- `Node type`: node type can be either t or l. l means leaf which means the cluster is not further split. t means tree meaning there are further splitting for the given cluster.\n",
    "- `Sub-cluster list`: a list of clusters that is the resulting clusters derived from splitting the current cluster.\n",
    "- `User list`: a list of user ids representing the users in the given cluster.\n",
    "- `Cluster info`: a dictionary containing meta data for the cluster.\n",
    "- `gini`: gini-coefficient for chi-square score value distribution, measures the skewness of feature importance distribution.\n",
    "- `sweetspot`: the modularity for the best k we picked when further splitting this cluster.\n",
    "- `exclusions`: a list of top features (ranked) that helps to distinguish the cluster from others.\n",
    "- `exclusionsScore`: the chi-square scores correspond to the top features listed in exclusions.\n"
   ]
  },
  {
   "cell_type": "markdown",
   "metadata": {},
   "source": [
    "### 2. Visualisation Interface"
   ]
  },
  {
   "cell_type": "code",
   "execution_count": 7,
   "metadata": {},
   "outputs": [],
   "source": [
    "!python3 visulization.py output/result.json seq_freq_newgrp_input.txt vis/vis.json ngram_dict.csv"
   ]
  },
  {
   "cell_type": "markdown",
   "metadata": {},
   "source": [
    "#### Open the visualisation interface on localhost"
   ]
  },
  {
   "cell_type": "code",
   "execution_count": 6,
   "metadata": {},
   "outputs": [
    {
     "name": "stdout",
     "output_type": "stream",
     "text": [
      "Serving HTTP on :: port 8800 (http://[::]:8800/) ...\n"
     ]
    },
    {
     "name": "stderr",
     "output_type": "stream",
     "text": [
      "Traceback (most recent call last):\n",
      "  File \"<frozen runpy>\", line 198, in _run_module_as_main\n",
      "  File \"<frozen runpy>\", line 88, in _run_code\n",
      "  File \"/Library/Frameworks/Python.framework/Versions/3.11/lib/python3.11/http/server.py\", line 1313, in <module>\n",
      "    test(\n",
      "  File \"/Library/Frameworks/Python.framework/Versions/3.11/lib/python3.11/http/server.py\", line 1260, in test\n",
      "    with ServerClass(addr, HandlerClass) as httpd:\n",
      "         ^^^^^^^^^^^^^^^^^^^^^^^^^^^^^^^\n",
      "  File \"/Library/Frameworks/Python.framework/Versions/3.11/lib/python3.11/socketserver.py\", line 456, in __init__\n",
      "    self.server_bind()\n",
      "  File \"/Library/Frameworks/Python.framework/Versions/3.11/lib/python3.11/http/server.py\", line 1307, in server_bind\n",
      "    return super().server_bind()\n",
      "           ^^^^^^^^^^^^^^^^^^^^^\n",
      "  File \"/Library/Frameworks/Python.framework/Versions/3.11/lib/python3.11/http/server.py\", line 136, in server_bind\n",
      "    socketserver.TCPServer.server_bind(self)\n",
      "  File \"/Library/Frameworks/Python.framework/Versions/3.11/lib/python3.11/socketserver.py\", line 472, in server_bind\n",
      "    self.socket.bind(self.server_address)\n",
      "OSError: [Errno 48] Address already in use\n"
     ]
    },
    {
     "data": {
      "text/plain": [
       "True"
      ]
     },
     "execution_count": 6,
     "metadata": {},
     "output_type": "execute_result"
    }
   ],
   "source": [
    "import os\n",
    "import subprocess\n",
    "import webbrowser\n",
    "\n",
    "os.chdir('vis')\n",
    "process = subprocess.Popen(['python3', '-m', 'http.server', '8800'])\n",
    "subprocess.Popen(['python3', '-m', 'http.server', '8800'])\n",
    "webbrowser.open_new_tab('http://localhost:8800/multi_color.html?json=vis.json')"
   ]
  },
  {
   "cell_type": "code",
   "execution_count": null,
   "metadata": {},
   "outputs": [],
   "source": [
    "process.terminate()"
   ]
  }
 ],
 "metadata": {
  "kernelspec": {
   "display_name": ".venv",
   "language": "python",
   "name": "python3"
  },
  "language_info": {
   "codemirror_mode": {
    "name": "ipython",
    "version": 3
   },
   "file_extension": ".py",
   "mimetype": "text/x-python",
   "name": "python",
   "nbconvert_exporter": "python",
   "pygments_lexer": "ipython3",
   "version": "3.11.4"
  }
 },
 "nbformat": 4,
 "nbformat_minor": 2
}
